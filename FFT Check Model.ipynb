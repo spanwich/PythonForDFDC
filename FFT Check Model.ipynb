{
 "cells": [
  {
   "cell_type": "markdown",
   "metadata": {},
   "source": [
    "# Apply FFT to frames of Image"
   ]
  },
  {
   "cell_type": "code",
   "execution_count": 5,
   "metadata": {},
   "outputs": [
    {
     "name": "stdout",
     "output_type": "stream",
     "text": [
      "FAKE\n",
      "FAKE\n",
      "FAKE\n",
      "FAKE\n",
      "FAKE\n",
      "FAKE\n",
      "FAKE\n",
      "FAKE\n",
      "FAKE\n",
      "FAKE\n",
      "FAKE\n",
      "REAL\n",
      "REAL\n",
      "REAL\n",
      "REAL\n",
      "REAL\n",
      "REAL\n",
      "REAL\n",
      "REAL\n",
      "REAL\n",
      "REAL\n",
      "REAL\n",
      "FAKE\n",
      "FAKE\n",
      "FAKE\n",
      "FAKE\n",
      "FAKE\n",
      "FAKE\n",
      "FAKE\n",
      "FAKE\n",
      "FAKE\n",
      "FAKE\n",
      "FAKE\n",
      "REAL\n",
      "REAL\n",
      "REAL\n",
      "REAL\n",
      "REAL\n",
      "REAL\n",
      "REAL\n",
      "REAL\n",
      "REAL\n",
      "REAL\n",
      "REAL\n",
      "FAKE\n",
      "FAKE\n",
      "FAKE\n",
      "FAKE\n",
      "FAKE\n",
      "FAKE\n",
      "FAKE\n",
      "FAKE\n",
      "FAKE\n",
      "FAKE\n",
      "FAKE\n"
     ]
    }
   ],
   "source": [
    "import cv2 as cv\n",
    "import numpy as np\n",
    "import pandas as pd\n",
    "import sys, os\n",
    "\n",
    "def mkfolder(path):\n",
    "    if not os.path.isdir(path):\n",
    "        os.mkdir(path)\n",
    "        return False\n",
    "    else:\n",
    "        return True\n",
    "\n",
    "filename = 'E:\\dfdc_train_all\\metadata.csv'\n",
    "df = pd.read_csv(filename, dtype={'name':str, 'label':str})\n",
    "df_obj = df['name']\n",
    "#print(df_obj)\n",
    "df['name'] = df_obj.apply(lambda x: x[:-4])\n",
    "df = df.set_index('name')\n",
    "#print(df)\n",
    "#print(df.index.get_loc('aalhdlexwx'))\n",
    "\n",
    "#To get data from name index\n",
    "#df.at['aalhdlexwx','label']\n",
    "for root, dirs, files in os.walk('E:\\\\blur_model\\\\dfdc_train_face_clean'):\n",
    "    for name in files:\n",
    "        if name.endswith(\".jpg\"):\n",
    "            #Load numpy from text file\n",
    "            #data = np.loadtxt(root + '\\\\' + name)\n",
    "            #print(data)\n",
    "            rootname = root.rsplit('\\\\', 1)[-1]\n",
    "            filename = root + '\\\\' + name\n",
    "            print(df.at[rootname,'label'])\n",
    "            #img = cv.imread(filename,0)\n",
    "            #dft = cv.dft(np.float32(img),flags = cv.DFT_COMPLEX_OUTPUT)\n",
    "            #dft_shift = np.fft.fftshift(dft)\n",
    "            #magnitude_spectrum = 20*np.log(cv.magnitude(dft_shift[:,:,0],dft_shift[:,:,1]))\n",
    "            #mkfolder('E:\\\\blur_model\\\\dfdc_train_fft\\\\' + rootname)\n",
    "            #status = cv.imwrite('E:\\\\blur_model\\\\dfdc_train_fft\\\\' + rootname + '\\\\' + name ,magnitude_spectrum)\n",
    "            #print(status)"
   ]
  },
  {
   "cell_type": "code",
   "execution_count": null,
   "metadata": {},
   "outputs": [],
   "source": []
  },
  {
   "cell_type": "code",
   "execution_count": null,
   "metadata": {},
   "outputs": [],
   "source": []
  }
 ],
 "metadata": {
  "kernelspec": {
   "display_name": "Python 3",
   "language": "python",
   "name": "python3"
  },
  "language_info": {
   "codemirror_mode": {
    "name": "ipython",
    "version": 3
   },
   "file_extension": ".py",
   "mimetype": "text/x-python",
   "name": "python",
   "nbconvert_exporter": "python",
   "pygments_lexer": "ipython3",
   "version": "3.7.7"
  }
 },
 "nbformat": 4,
 "nbformat_minor": 4
}
