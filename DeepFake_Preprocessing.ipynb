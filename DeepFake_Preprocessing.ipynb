{
 "cells": [
  {
   "cell_type": "markdown",
   "metadata": {},
   "source": [
    "pip install numpy\n",
    "\n",
    "pip install mxnet-cu100\n",
    "\n",
    "conda install cudatoolkit=10\n",
    "\n",
    "pip install opencv-python\n",
    "\n",
    "pip install Pillow==6.1"
   ]
  },
  {
   "cell_type": "code",
   "execution_count": null,
   "metadata": {},
   "outputs": [],
   "source": [
    "import os,\n",
    "from os.path import isfile, isdir, join\n",
    "import time\n",
    "from retinaface import RetinaFace\n",
    "import cv2\n",
    "import numpy as np\n",
    "from PIL import Image,ImageDraw\n",
    "import math"
   ]
  },
  {
   "cell_type": "code",
   "execution_count": null,
   "metadata": {},
   "outputs": [],
   "source": [
    "def mkfolder(path):\n",
    "    if not os.path.isdir(path):\n",
    "        os.mkdir(path)\n",
    "        return False\n",
    "    else:\n",
    "        return True"
   ]
  },
  {
   "cell_type": "code",
   "execution_count": null,
   "metadata": {},
   "outputs": [],
   "source": [
    "def detect_face(img,detector):\n",
    "    thresh = 0.8\n",
    "    scales = [1024, 1980]\n",
    "\n",
    "    im_shape = img.shape\n",
    "    target_size = scales[0]\n",
    "    max_size = scales[1]\n",
    "    im_size_min = np.min(im_shape[0:2])\n",
    "    im_size_max = np.max(im_shape[0:2])\n",
    "    im_scale = float(target_size) / float(im_size_min)\n",
    "\n",
    "    if np.round(im_scale * im_size_max) > max_size:\n",
    "        im_scale = float(max_size) / float(im_size_max)\n",
    "    \n",
    "    scales = [im_scale]\n",
    "    flip = False\n",
    "\n",
    "    faces, landmarks = detector.detect(img, thresh, scales=scales, do_flip=flip)\n",
    "    #print 'faces.shape:', faces.shape\n",
    "    #print 'landmarks.shape:', landmarks.shape\n",
    "    \n",
    "    return faces, landmarks"
   ]
  },
  {
   "cell_type": "code",
   "execution_count": null,
   "metadata": {},
   "outputs": [],
   "source": [
    "def visualize_landmark5(img,landmark5):\n",
    "    for l in range(landmark5.shape[0]):\n",
    "        color = (0,0,255)\n",
    "        if l==0 or l==3:\n",
    "            color = (0,255,0)\n",
    "        img = cv2.circle(img, (landmark5[l][0], landmark5[l][1]), 1, color, 2)\n",
    "    return img"
   ]
  },
  {
   "cell_type": "code",
   "execution_count": null,
   "metadata": {},
   "outputs": [],
   "source": [
    "def align_face(img,landmark5):\n",
    "    left_eye = landmark5[0]\n",
    "    right_eye = landmark5[1]\n",
    "    dy = right_eye[1] - left_eye[1]\n",
    "    dx = right_eye[0] - left_eye[0]\n",
    "    angle = math.atan2(dy, dx) * 180. / math.pi\n",
    "    eye_center = ((left_eye[0] + right_eye[0]) // 2,(left_eye[1] + right_eye[1]) // 2)\n",
    "    \n",
    "    rotate_matrix = cv2.getRotationMatrix2D(eye_center, angle, scale=1)\n",
    "    rotated_img = cv2.warpAffine(img, rotate_matrix, (img.shape[1], img.shape[0]))\n",
    "    \n",
    "    return rotated_img, eye_center, angle"
   ]
  },
  {
   "cell_type": "code",
   "execution_count": null,
   "metadata": {},
   "outputs": [],
   "source": [
    "def rotate(origin, point, angle, row):\n",
    "    x1, y1 = point\n",
    "    x2, y2 = origin\n",
    "    y1 = row - y1\n",
    "    y2 = row - y2\n",
    "    angle = math.radians(angle)\n",
    "    x = x2 + math.cos(angle) * (x1 - x2) - math.sin(angle) * (y1 - y2)\n",
    "    y = y2 + math.sin(angle) * (x1 - x2) + math.cos(angle) * (y1 - y2)\n",
    "    y = row - y\n",
    "    return int(x), int(y)"
   ]
  },
  {
   "cell_type": "code",
   "execution_count": null,
   "metadata": {},
   "outputs": [],
   "source": [
    "def rotate_landmark5(landmark5, eye_center, angle, row):\n",
    "    rotated_landmark5 = []\n",
    "    for l in range(landmark5.shape[0]):\n",
    "        rotated_landmark = rotate(eye_center, landmark5[l], angle, row)\n",
    "        rotated_landmark5.append(rotated_landmark)\n",
    "    rotated_landmark5 = np.array(rotated_landmark5)\n",
    "    return rotated_landmark5"
   ]
  },
  {
   "cell_type": "code",
   "execution_count": null,
   "metadata": {},
   "outputs": [],
   "source": [
    "def corp_face(img, size, landmark5):\n",
    "    x_min = np.min(landmark5, axis=0)[0]\n",
    "    x_max = np.max(landmark5, axis=0)[0]\n",
    "    x_center = (x_max - x_min) / 2 + x_min\n",
    "    #left, right = (x_center - size / 2, x_center + size / 2)\n",
    "    \n",
    "    eye_landmark = []\n",
    "    eye_landmark.append(landmark5[0])\n",
    "    eye_landmark.append(landmark5[1])\n",
    "    eye_landmark = np.array(eye_landmark)\n",
    "    eye_center = np.mean(eye_landmark, axis=0)\n",
    "    \n",
    "    lip_landmark = []\n",
    "    lip_landmark.append(landmark5[3])\n",
    "    lip_landmark.append(landmark5[4])\n",
    "    lip_landmark = np.array(lip_landmark)\n",
    "    lip_center = np.mean(lip_landmark, axis=0)\n",
    "\n",
    "    y_center = eye_center[1] + ((lip_center[1] - eye_center[1])/2)\n",
    "    #mid_part = lip_center[1] - eye_center[1]\n",
    "    top, bottom = y_center - 150 , y_center + 150\n",
    "    left, right = x_center - 150, x_center + 150\n",
    "    \n",
    "    pil_img = Image.fromarray(img)\n",
    "    left, top, right, bottom = [int(i) for i in [left, top, right, bottom]]\n",
    "    cropped_img = pil_img.crop((left, top, right, bottom))\n",
    "    cropped_img = np.array(cropped_img)\n",
    "    return cropped_img, left, top"
   ]
  },
  {
   "cell_type": "code",
   "execution_count": null,
   "metadata": {},
   "outputs": [],
   "source": [
    "def transfer_landmark5(landmark5, left,top):\n",
    "    transferred_landmark5 = []\n",
    "    for l in range(landmark5.shape[0]):\n",
    "        transferred_landmark = (landmark5[l][0] - left, landmark5[l][1] - top)\n",
    "        transferred_landmark5.append(transferred_landmark)\n",
    "    transferred_landmark5 = np.array( transferred_landmark5)\n",
    "    return transferred_landmark5"
   ]
  },
  {
   "cell_type": "code",
   "execution_count": null,
   "metadata": {},
   "outputs": [],
   "source": [
    "def processing_video(write_path, frame_name, frame_count, img, detector):\n",
    "    faces, landmarks = detect_face(img, detector)\n",
    "\n",
    "    if landmarks is None:\n",
    "        print (frame_name, 'The landmarks have not found.')\n",
    "        return False\n",
    "    else:\n",
    "        #print 'find', landmarks.shape[0], 'faces'\n",
    "        for l in range(landmarks.shape[0]):\n",
    "            landmark5 = landmarks[l].astype(np.int)\n",
    "            aligned_img, eye_center, angle = align_face(img, landmark5)\n",
    "            rotated_landmark5 = rotate_landmark5(landmark5, eye_center, angle, img.shape[0]) \n",
    "            cropped_img, left, top = corp_face(aligned_img, 300, rotated_landmark5)\n",
    "            transferred_landmark5 = transfer_landmark5(rotated_landmark5, left,top)\n",
    "            #filename = write_path + frame_name[:-4] + '_' + str(l+1) + '.jpg'\n",
    "            filename = write_path + frame_name[:-4] + '_00' +format(str(frame_count), '0>3s') + 'f' + str(l+1) + '.jpg'\n",
    "            cv2.imwrite(filename, cropped_img)\n",
    "        return True"
   ]
  },
  {
   "cell_type": "code",
   "execution_count": null,
   "metadata": {},
   "outputs": [],
   "source": [
    "# training\n",
    "#read_path = '/media/islab/disk2/dfdc_train_test/dfdc_train_video/'\n",
    "#write_path = '/media/islab/disk2/dfdc_train_test/dfdc_train_face/'\n",
    "# testing\n",
    "read_path = 'E:\\\\Train_dataset\\\\dfdc_train_part_00\\\\dfdc_train_part_0'\n",
    "write_path = 'E:\\\\Train_dataset\\\\dfdc_train_part_00_faces'\n",
    "executed = mkfolder(write_path)\n",
    "\n",
    "gpuid = 0\n",
    "detector = RetinaFace('/home/islab/insightface/RetinaFace/retinaface-R50/R50', 0, gpuid, 'net3')"
   ]
  },
  {
   "cell_type": "code",
   "execution_count": null,
   "metadata": {
    "scrolled": true
   },
   "outputs": [],
   "source": [
    "tStart = time.time()\n",
    "filesname = os.listdir(read_path)\n",
    "#fp = open(write_path+'log.txt', \"a\")\n",
    "\n",
    "video_count = 0\n",
    "for files in filesname:\n",
    "    if files.endswith('.mp4'):\n",
    "        r_path = read_path + files\n",
    "        w_path = write_path + files[:-4] + '/'\n",
    "        executed = mkfolder(w_path)\n",
    "        \n",
    "        video_count = video_count + 1\n",
    "        \n",
    "        if executed:\n",
    "            print ('\\n' + r_path + ' had been done before ...')\n",
    "            continue\n",
    "        \n",
    "        print ('\\n(',video_count,'/',len(filesname),')')\n",
    "        print ('Procesiing the '+ r_path + ' ...' )\n",
    "        #fp.write('\\nProcesiing the '+ r_path + ' ...\\n' )\n",
    "        \n",
    "        frame_count = 0\n",
    "        detect_count = 0\n",
    "        cap = cv2.VideoCapture(r_path)\n",
    "        while(cap.isOpened()):\n",
    "            # if no frame then break\n",
    "            ret, frame = cap.read()\n",
    "            if not ret :\n",
    "                print ('Done! the '+ files+ ' total frames:'+ str(frame_count))\n",
    "                print ('(detect_count/frame_count):', detect_count,'/',frame_count)\n",
    "                #fp.write('Done! the '+ files+ ' total frames:'+ str(frame_count)+'\\n')\n",
    "                #fp.write('(detect_count/frame_count): '+str(detect_count)+' / '+str(frame_count)+'\\n')\n",
    "                break\n",
    "\n",
    "            frame_count = frame_count + 1\n",
    "            if frame_count % 10 != 1:\n",
    "                continue\n",
    "            \n",
    "            \n",
    "            check = processing_video(w_path,files, frame_count, frame, detector)\n",
    "            if check:\n",
    "                detect_count = detect_count + 1\n",
    "            \n",
    "            break\n",
    "            \n",
    "\n",
    "        cap.release()\n",
    "\n",
    "tEnd = time.time()\n",
    "print (\"\\nIt cost %f sec\" % (tEnd - tStart))\n",
    "print ('\\nDone!!!')     \n",
    "#fp.close()"
   ]
  },
  {
   "cell_type": "markdown",
   "metadata": {},
   "source": [
    "# Evaluation"
   ]
  },
  {
   "cell_type": "markdown",
   "metadata": {},
   "source": [
    "It cost 497.974612 sec for testing dataset three frame\n",
    "\n",
    "It cost 51664.295490 sec for training dataset one frame"
   ]
  },
  {
   "cell_type": "code",
   "execution_count": null,
   "metadata": {},
   "outputs": [],
   "source": []
  }
 ],
 "metadata": {
  "kernelspec": {
   "display_name": "Python 3",
   "language": "python",
   "name": "python3"
  },
  "language_info": {
   "codemirror_mode": {
    "name": "ipython",
    "version": 3
   },
   "file_extension": ".py",
   "mimetype": "text/x-python",
   "name": "python",
   "nbconvert_exporter": "python",
   "pygments_lexer": "ipython3",
   "version": "3.7.1"
  }
 },
 "nbformat": 4,
 "nbformat_minor": 2
}
