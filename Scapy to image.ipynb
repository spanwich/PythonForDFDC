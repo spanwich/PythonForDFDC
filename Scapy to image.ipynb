{
 "cells": [
  {
   "cell_type": "code",
   "execution_count": null,
   "metadata": {},
   "outputs": [],
   "source": [
    "from scapy.all import *\n",
    "import numpy\n",
    "import binascii\n",
    "import cv2\n",
    "import time\n",
    "# rdpcap comes from scapy and loads in our pcap file\n",
    "# packets = rdpcap('C:\\\\Users\\\\saranachon\\\\Documents\\\\24032020.pcapng')\n",
    "packets = rdpcap('C:\\\\Users\\\\saranachon\\\\Documents\\\\Controls_av201_av202.pcapng')\n",
    "# packets = rdpcap('C:\\\\Users\\\\saranachon\\\\Documents\\\\17042020.pcapng')"
   ]
  },
  {
   "cell_type": "code",
   "execution_count": null,
   "metadata": {},
   "outputs": [],
   "source": [
    "save_path = \"C:\\\\Users\\\\saranachon\\\\Documents\\\\ISLAB\\\\result\\\\\"\n",
    "# Let's iterate through every packet\n",
    "img_array = []\n",
    "for packet in packets:\n",
    "#for i in range(10):\n",
    "#    packet = packets[i]\n",
    "    if IP in packet and UDP in packet:\n",
    "        if packet['IP'].src == '10.4.0.6' or packet['IP'].src == '10.4.0.14':\n",
    "            #print(packet.show())\n",
    "            #print(type(packet['Raw'].load))\n",
    "            #print(binascii.hexlify(packet['Raw'].load))\n",
    "            byte_a = [b for b in packet['Raw'].load]\n",
    "            result = numpy.zeros(1444)\n",
    "            a = numpy.array(byte_a, dtype = numpy.uint8)\n",
    "            result[:a.shape[0]] = a\n",
    "            im = numpy.reshape(result,(38,38)).astype(numpy.uint8)\n",
    "            #print(im)\n",
    "            im = im.repeat(10, axis=0).repeat(10, axis=1)\n",
    "            heatmap = cv2.applyColorMap(im, cv2.COLORMAP_HOT)\n",
    "            # print(heatmap.dtype)\n",
    "            # We're only interested packets with a DNS Round Robin layer\n",
    "            #if packet.haslayer(IP):\n",
    "            #    print(packet)\n",
    "            img_array.append(heatmap)\n",
    "            #cv2.imwrite(save_path + \"image\"+ str(i) + \".jpg\", heatmap)\n",
    "            #cv2.imshow(\"image\", heatmap)\n",
    "            #cv2.moveWindow(\"image\", 40, 40)\n",
    "            #cv2.waitKey()\n",
    "            \n",
    "#out = cv2.VideoWriter(save_path + 'ics_heatmap_data.avi',cv2.VideoWriter_fourcc(*'DIVX'), 15, size)\n",
    "out = cv2.VideoWriter(save_path + 'ics_heatmap_data.mp4',cv2.VideoWriter_fourcc(*'MP4V'), 1, (38,38))\n",
    " \n",
    "for i in range(len(img_array)):\n",
    "    out.write(img_array[i])\n",
    "out.release()"
   ]
  },
  {
   "cell_type": "code",
   "execution_count": null,
   "metadata": {},
   "outputs": [],
   "source": [
    "\n"
   ]
  }
 ],
 "metadata": {
  "kernelspec": {
   "display_name": "Python 3",
   "language": "python",
   "name": "python3"
  },
  "language_info": {
   "codemirror_mode": {
    "name": "ipython",
    "version": 3
   },
   "file_extension": ".py",
   "mimetype": "text/x-python",
   "name": "python",
   "nbconvert_exporter": "python",
   "pygments_lexer": "ipython3",
   "version": "3.7.6"
  }
 },
 "nbformat": 4,
 "nbformat_minor": 2
}
